{
 "cells": [
  {
   "cell_type": "markdown",
   "id": "33579022",
   "metadata": {},
   "source": [
    "#  Soil Classification Project Card\n",
    "\n",
    "##  Overview\n",
    "The Soil Image Classification Challenge is a machine learning competition organised by Annam.ai at IIT Ropar, serving as an initial task for shortlisted hackathon participants. Competitors will build models to classify each soil image into one of four categories: Alluvial soil, Black soil, Clay soil, or Red soil.\n",
    "\n",
    "## 📁 Folder Structure\n",
    "```bash\n",
    "├── src/               # Core training and inference scripts\n",
    "├── data/              # Dataset and download scripts\n",
    "├── notebooks/         # Jupyter notebooks for EDA and experiments\n",
    "├── docs/              # Documentation and diagrams\n",
    "└── requirements.txt   # Project dependencies\n"
   ]
  }
 ],
 "metadata": {
  "language_info": {
   "name": "python"
  }
 },
 "nbformat": 4,
 "nbformat_minor": 5
}
