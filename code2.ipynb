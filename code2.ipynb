{
 "cells": [
  {
   "cell_type": "code",
   "execution_count": 1,
   "id": "9b846dda",
   "metadata": {},
   "outputs": [
    {
     "name": "stdout",
     "output_type": "stream",
     "text": [
      "Device: cuda\n"
     ]
    },
    {
     "name": "stderr",
     "output_type": "stream",
     "text": [
      "C:\\Users\\Chirag Bansal\\AppData\\Local\\Temp\\ipykernel_22808\\868957484.py:117: FutureWarning: `torch.cuda.amp.GradScaler(args...)` is deprecated. Please use `torch.amp.GradScaler('cuda', args...)` instead.\n",
      "  scaler = GradScaler()\n",
      "[CustomCNN] Epoch 1/30:   0%|          | 0/31 [00:00<?, ?it/s]C:\\Users\\Chirag Bansal\\AppData\\Local\\Temp\\ipykernel_22808\\868957484.py:129: FutureWarning: `torch.cuda.amp.autocast(args...)` is deprecated. Please use `torch.amp.autocast('cuda', args...)` instead.\n",
      "  with autocast():\n",
      "[CustomCNN] Epoch 1/30: 100%|██████████| 31/31 [00:16<00:00,  1.90it/s, acc=24.3, loss=1.37]\n"
     ]
    },
    {
     "name": "stdout",
     "output_type": "stream",
     "text": [
      "Epoch 1: Val Acc: 61.63%\n"
     ]
    },
    {
     "name": "stderr",
     "output_type": "stream",
     "text": [
      "[CustomCNN] Epoch 2/30: 100%|██████████| 31/31 [00:14<00:00,  2.20it/s, acc=55.1, loss=1.35]\n"
     ]
    },
    {
     "name": "stdout",
     "output_type": "stream",
     "text": [
      "Epoch 2: Val Acc: 64.90%\n"
     ]
    },
    {
     "name": "stderr",
     "output_type": "stream",
     "text": [
      "[CustomCNN] Epoch 3/30: 100%|██████████| 31/31 [00:13<00:00,  2.26it/s, acc=60.8, loss=1.16]\n"
     ]
    },
    {
     "name": "stdout",
     "output_type": "stream",
     "text": [
      "Epoch 3: Val Acc: 68.98%\n"
     ]
    },
    {
     "name": "stderr",
     "output_type": "stream",
     "text": [
      "[CustomCNN] Epoch 4/30: 100%|██████████| 31/31 [00:14<00:00,  2.12it/s, acc=65.2, loss=1.25] \n"
     ]
    },
    {
     "name": "stdout",
     "output_type": "stream",
     "text": [
      "Epoch 4: Val Acc: 70.20%\n"
     ]
    },
    {
     "name": "stderr",
     "output_type": "stream",
     "text": [
      "[CustomCNN] Epoch 5/30: 100%|██████████| 31/31 [00:28<00:00,  1.07it/s, acc=66.7, loss=0.983]\n"
     ]
    },
    {
     "name": "stdout",
     "output_type": "stream",
     "text": [
      "Epoch 5: Val Acc: 71.43%\n"
     ]
    },
    {
     "name": "stderr",
     "output_type": "stream",
     "text": [
      "[CustomCNN] Epoch 6/30: 100%|██████████| 31/31 [00:35<00:00,  1.14s/it, acc=66.8, loss=0.806]\n"
     ]
    },
    {
     "name": "stdout",
     "output_type": "stream",
     "text": [
      "Epoch 6: Val Acc: 72.24%\n"
     ]
    },
    {
     "name": "stderr",
     "output_type": "stream",
     "text": [
      "[CustomCNN] Epoch 7/30: 100%|██████████| 31/31 [00:13<00:00,  2.28it/s, acc=67.5, loss=0.927]\n"
     ]
    },
    {
     "name": "stdout",
     "output_type": "stream",
     "text": [
      "Epoch 7: Val Acc: 73.47%\n"
     ]
    },
    {
     "name": "stderr",
     "output_type": "stream",
     "text": [
      "[CustomCNN] Epoch 8/30: 100%|██████████| 31/31 [00:13<00:00,  2.25it/s, acc=66.2, loss=1.12] \n"
     ]
    },
    {
     "name": "stdout",
     "output_type": "stream",
     "text": [
      "Epoch 8: Val Acc: 73.06%\n"
     ]
    },
    {
     "name": "stderr",
     "output_type": "stream",
     "text": [
      "[CustomCNN] Epoch 9/30: 100%|██████████| 31/31 [00:14<00:00,  2.10it/s, acc=67.8, loss=0.821]\n"
     ]
    },
    {
     "name": "stdout",
     "output_type": "stream",
     "text": [
      "Epoch 9: Val Acc: 73.06%\n"
     ]
    },
    {
     "name": "stderr",
     "output_type": "stream",
     "text": [
      "[CustomCNN] Epoch 10/30: 100%|██████████| 31/31 [00:13<00:00,  2.21it/s, acc=67.8, loss=1.03] \n"
     ]
    },
    {
     "name": "stdout",
     "output_type": "stream",
     "text": [
      "Epoch 10: Val Acc: 73.88%\n"
     ]
    },
    {
     "name": "stderr",
     "output_type": "stream",
     "text": [
      "[CustomCNN] Epoch 11/30: 100%|██████████| 31/31 [00:15<00:00,  1.95it/s, acc=68.6, loss=0.882]\n"
     ]
    },
    {
     "name": "stdout",
     "output_type": "stream",
     "text": [
      "Epoch 11: Val Acc: 73.47%\n"
     ]
    },
    {
     "name": "stderr",
     "output_type": "stream",
     "text": [
      "[CustomCNN] Epoch 12/30: 100%|██████████| 31/31 [00:18<00:00,  1.65it/s, acc=67.7, loss=0.849]\n"
     ]
    },
    {
     "name": "stdout",
     "output_type": "stream",
     "text": [
      "Epoch 12: Val Acc: 73.47%\n"
     ]
    },
    {
     "name": "stderr",
     "output_type": "stream",
     "text": [
      "[CustomCNN] Epoch 13/30: 100%|██████████| 31/31 [00:24<00:00,  1.27it/s, acc=68, loss=1.08]   \n"
     ]
    },
    {
     "name": "stdout",
     "output_type": "stream",
     "text": [
      "Epoch 13: Val Acc: 74.69%\n"
     ]
    },
    {
     "name": "stderr",
     "output_type": "stream",
     "text": [
      "[CustomCNN] Epoch 14/30: 100%|██████████| 31/31 [00:37<00:00,  1.22s/it, acc=69.1, loss=0.857]\n"
     ]
    },
    {
     "name": "stdout",
     "output_type": "stream",
     "text": [
      "Epoch 14: Val Acc: 74.29%\n"
     ]
    },
    {
     "name": "stderr",
     "output_type": "stream",
     "text": [
      "[CustomCNN] Epoch 15/30: 100%|██████████| 31/31 [00:38<00:00,  1.23s/it, acc=67.2, loss=1.02] \n"
     ]
    },
    {
     "name": "stdout",
     "output_type": "stream",
     "text": [
      "Epoch 15: Val Acc: 74.69%\n"
     ]
    },
    {
     "name": "stderr",
     "output_type": "stream",
     "text": [
      "[CustomCNN] Epoch 16/30: 100%|██████████| 31/31 [00:37<00:00,  1.20s/it, acc=69.1, loss=0.965]\n"
     ]
    },
    {
     "name": "stdout",
     "output_type": "stream",
     "text": [
      "Epoch 16: Val Acc: 74.29%\n"
     ]
    },
    {
     "name": "stderr",
     "output_type": "stream",
     "text": [
      "[CustomCNN] Epoch 17/30: 100%|██████████| 31/31 [00:38<00:00,  1.23s/it, acc=69.1, loss=0.766]\n"
     ]
    },
    {
     "name": "stdout",
     "output_type": "stream",
     "text": [
      "Epoch 17: Val Acc: 74.69%\n"
     ]
    },
    {
     "name": "stderr",
     "output_type": "stream",
     "text": [
      "[CustomCNN] Epoch 18/30: 100%|██████████| 31/31 [00:36<00:00,  1.18s/it, acc=69, loss=0.778]  \n"
     ]
    },
    {
     "name": "stdout",
     "output_type": "stream",
     "text": [
      "Epoch 18: Val Acc: 75.92%\n"
     ]
    },
    {
     "name": "stderr",
     "output_type": "stream",
     "text": [
      "[CustomCNN] Epoch 19/30: 100%|██████████| 31/31 [00:15<00:00,  2.05it/s, acc=69.8, loss=1.08] \n"
     ]
    },
    {
     "name": "stdout",
     "output_type": "stream",
     "text": [
      "Epoch 19: Val Acc: 75.92%\n"
     ]
    },
    {
     "name": "stderr",
     "output_type": "stream",
     "text": [
      "[CustomCNN] Epoch 20/30: 100%|██████████| 31/31 [00:13<00:00,  2.28it/s, acc=69.2, loss=0.83] \n"
     ]
    },
    {
     "name": "stdout",
     "output_type": "stream",
     "text": [
      "Epoch 20: Val Acc: 75.92%\n"
     ]
    },
    {
     "name": "stderr",
     "output_type": "stream",
     "text": [
      "[CustomCNN] Epoch 21/30: 100%|██████████| 31/31 [00:13<00:00,  2.28it/s, acc=70.3, loss=0.875]\n"
     ]
    },
    {
     "name": "stdout",
     "output_type": "stream",
     "text": [
      "Epoch 21: Val Acc: 75.92%\n"
     ]
    },
    {
     "name": "stderr",
     "output_type": "stream",
     "text": [
      "[CustomCNN] Epoch 22/30: 100%|██████████| 31/31 [00:35<00:00,  1.14s/it, acc=70.6, loss=0.728]\n"
     ]
    },
    {
     "name": "stdout",
     "output_type": "stream",
     "text": [
      "Epoch 22: Val Acc: 75.92%\n"
     ]
    },
    {
     "name": "stderr",
     "output_type": "stream",
     "text": [
      "[CustomCNN] Epoch 23/30: 100%|██████████| 31/31 [00:28<00:00,  1.08it/s, acc=70.4, loss=0.652]\n",
      "c:\\Python311\\Lib\\site-packages\\torchvision\\models\\_utils.py:208: UserWarning: The parameter 'pretrained' is deprecated since 0.13 and may be removed in the future, please use 'weights' instead.\n",
      "  warnings.warn(\n",
      "c:\\Python311\\Lib\\site-packages\\torchvision\\models\\_utils.py:223: UserWarning: Arguments other than a weight enum or `None` for 'weights' are deprecated since 0.13 and may be removed in the future. The current behavior is equivalent to passing `weights=MobileNet_V2_Weights.IMAGENET1K_V1`. You can also use `weights=MobileNet_V2_Weights.DEFAULT` to get the most up-to-date weights.\n",
      "  warnings.warn(msg)\n"
     ]
    },
    {
     "name": "stdout",
     "output_type": "stream",
     "text": [
      "Epoch 23: Val Acc: 75.92%\n",
      "Early stopping for CustomCNN\n",
      "✅ Best Validation Accuracy for CustomCNN: 75.92%\n"
     ]
    },
    {
     "name": "stderr",
     "output_type": "stream",
     "text": [
      "[MobileNetV2] Epoch 1/30: 100%|██████████| 31/31 [00:14<00:00,  2.14it/s, acc=72.9, loss=0.849]\n"
     ]
    },
    {
     "name": "stdout",
     "output_type": "stream",
     "text": [
      "Epoch 1: Val Acc: 90.20%\n"
     ]
    },
    {
     "name": "stderr",
     "output_type": "stream",
     "text": [
      "[MobileNetV2] Epoch 2/30: 100%|██████████| 31/31 [00:13<00:00,  2.24it/s, acc=85.4, loss=0.538]\n"
     ]
    },
    {
     "name": "stdout",
     "output_type": "stream",
     "text": [
      "Epoch 2: Val Acc: 93.06%\n"
     ]
    },
    {
     "name": "stderr",
     "output_type": "stream",
     "text": [
      "[MobileNetV2] Epoch 3/30: 100%|██████████| 31/31 [00:13<00:00,  2.30it/s, acc=89.6, loss=0.496]\n"
     ]
    },
    {
     "name": "stdout",
     "output_type": "stream",
     "text": [
      "Epoch 3: Val Acc: 94.29%\n"
     ]
    },
    {
     "name": "stderr",
     "output_type": "stream",
     "text": [
      "[MobileNetV2] Epoch 4/30: 100%|██████████| 31/31 [00:13<00:00,  2.28it/s, acc=90.6, loss=0.614]\n"
     ]
    },
    {
     "name": "stdout",
     "output_type": "stream",
     "text": [
      "Epoch 4: Val Acc: 92.24%\n"
     ]
    },
    {
     "name": "stderr",
     "output_type": "stream",
     "text": [
      "[MobileNetV2] Epoch 5/30: 100%|██████████| 31/31 [00:13<00:00,  2.27it/s, acc=91, loss=0.576]  \n"
     ]
    },
    {
     "name": "stdout",
     "output_type": "stream",
     "text": [
      "Epoch 5: Val Acc: 94.29%\n"
     ]
    },
    {
     "name": "stderr",
     "output_type": "stream",
     "text": [
      "[MobileNetV2] Epoch 6/30: 100%|██████████| 31/31 [00:13<00:00,  2.26it/s, acc=92.8, loss=0.426]\n"
     ]
    },
    {
     "name": "stdout",
     "output_type": "stream",
     "text": [
      "Epoch 6: Val Acc: 95.10%\n"
     ]
    },
    {
     "name": "stderr",
     "output_type": "stream",
     "text": [
      "[MobileNetV2] Epoch 7/30: 100%|██████████| 31/31 [00:23<00:00,  1.32it/s, acc=94.2, loss=0.561]\n"
     ]
    },
    {
     "name": "stdout",
     "output_type": "stream",
     "text": [
      "Epoch 7: Val Acc: 95.10%\n"
     ]
    },
    {
     "name": "stderr",
     "output_type": "stream",
     "text": [
      "[MobileNetV2] Epoch 8/30: 100%|██████████| 31/31 [00:41<00:00,  1.34s/it, acc=93.7, loss=0.496]\n"
     ]
    },
    {
     "name": "stdout",
     "output_type": "stream",
     "text": [
      "Epoch 8: Val Acc: 93.47%\n"
     ]
    },
    {
     "name": "stderr",
     "output_type": "stream",
     "text": [
      "[MobileNetV2] Epoch 9/30: 100%|██████████| 31/31 [00:42<00:00,  1.37s/it, acc=94.2, loss=0.399]\n"
     ]
    },
    {
     "name": "stdout",
     "output_type": "stream",
     "text": [
      "Epoch 9: Val Acc: 95.10%\n"
     ]
    },
    {
     "name": "stderr",
     "output_type": "stream",
     "text": [
      "[MobileNetV2] Epoch 10/30: 100%|██████████| 31/31 [00:28<00:00,  1.10it/s, acc=94.7, loss=0.447]\n"
     ]
    },
    {
     "name": "stdout",
     "output_type": "stream",
     "text": [
      "Epoch 10: Val Acc: 92.24%\n"
     ]
    },
    {
     "name": "stderr",
     "output_type": "stream",
     "text": [
      "[MobileNetV2] Epoch 11/30: 100%|██████████| 31/31 [00:13<00:00,  2.23it/s, acc=96.6, loss=0.481]\n"
     ]
    },
    {
     "name": "stdout",
     "output_type": "stream",
     "text": [
      "Epoch 11: Val Acc: 96.33%\n"
     ]
    },
    {
     "name": "stderr",
     "output_type": "stream",
     "text": [
      "[MobileNetV2] Epoch 12/30: 100%|██████████| 31/31 [00:13<00:00,  2.25it/s, acc=96.6, loss=0.394]\n"
     ]
    },
    {
     "name": "stdout",
     "output_type": "stream",
     "text": [
      "Epoch 12: Val Acc: 95.92%\n"
     ]
    },
    {
     "name": "stderr",
     "output_type": "stream",
     "text": [
      "[MobileNetV2] Epoch 13/30: 100%|██████████| 31/31 [00:42<00:00,  1.36s/it, acc=97.1, loss=0.445]\n"
     ]
    },
    {
     "name": "stdout",
     "output_type": "stream",
     "text": [
      "Epoch 13: Val Acc: 96.33%\n"
     ]
    },
    {
     "name": "stderr",
     "output_type": "stream",
     "text": [
      "[MobileNetV2] Epoch 14/30: 100%|██████████| 31/31 [00:41<00:00,  1.33s/it, acc=95, loss=0.425]  \n"
     ]
    },
    {
     "name": "stdout",
     "output_type": "stream",
     "text": [
      "Epoch 14: Val Acc: 96.33%\n"
     ]
    },
    {
     "name": "stderr",
     "output_type": "stream",
     "text": [
      "[MobileNetV2] Epoch 15/30: 100%|██████████| 31/31 [00:40<00:00,  1.32s/it, acc=96.4, loss=0.391]\n"
     ]
    },
    {
     "name": "stdout",
     "output_type": "stream",
     "text": [
      "Epoch 15: Val Acc: 96.33%\n"
     ]
    },
    {
     "name": "stderr",
     "output_type": "stream",
     "text": [
      "[MobileNetV2] Epoch 16/30: 100%|██████████| 31/31 [00:40<00:00,  1.30s/it, acc=97.7, loss=0.385]\n"
     ]
    },
    {
     "name": "stdout",
     "output_type": "stream",
     "text": [
      "Epoch 16: Val Acc: 96.33%\n",
      "Early stopping for MobileNetV2\n",
      "✅ Best Validation Accuracy for MobileNetV2: 96.33%\n"
     ]
    },
    {
     "name": "stderr",
     "output_type": "stream",
     "text": [
      "c:\\Python311\\Lib\\site-packages\\torchvision\\models\\_utils.py:223: UserWarning: Arguments other than a weight enum or `None` for 'weights' are deprecated since 0.13 and may be removed in the future. The current behavior is equivalent to passing `weights=ResNet50_Weights.IMAGENET1K_V1`. You can also use `weights=ResNet50_Weights.DEFAULT` to get the most up-to-date weights.\n",
      "  warnings.warn(msg)\n",
      "[ResNet50] Epoch 1/30: 100%|██████████| 31/31 [00:30<00:00,  1.02it/s, acc=77, loss=0.463]  \n"
     ]
    },
    {
     "name": "stdout",
     "output_type": "stream",
     "text": [
      "Epoch 1: Val Acc: 90.61%\n"
     ]
    },
    {
     "name": "stderr",
     "output_type": "stream",
     "text": [
      "[ResNet50] Epoch 2/30: 100%|██████████| 31/31 [00:15<00:00,  1.94it/s, acc=89.3, loss=0.509]\n"
     ]
    },
    {
     "name": "stdout",
     "output_type": "stream",
     "text": [
      "Epoch 2: Val Acc: 91.84%\n"
     ]
    },
    {
     "name": "stderr",
     "output_type": "stream",
     "text": [
      "[ResNet50] Epoch 3/30: 100%|██████████| 31/31 [00:16<00:00,  1.91it/s, acc=91.3, loss=0.44] \n"
     ]
    },
    {
     "name": "stdout",
     "output_type": "stream",
     "text": [
      "Epoch 3: Val Acc: 92.24%\n"
     ]
    },
    {
     "name": "stderr",
     "output_type": "stream",
     "text": [
      "[ResNet50] Epoch 4/30: 100%|██████████| 31/31 [00:15<00:00,  1.94it/s, acc=92.8, loss=0.925]\n"
     ]
    },
    {
     "name": "stdout",
     "output_type": "stream",
     "text": [
      "Epoch 4: Val Acc: 95.10%\n"
     ]
    },
    {
     "name": "stderr",
     "output_type": "stream",
     "text": [
      "[ResNet50] Epoch 5/30: 100%|██████████| 31/31 [00:15<00:00,  1.95it/s, acc=93.1, loss=0.71] \n"
     ]
    },
    {
     "name": "stdout",
     "output_type": "stream",
     "text": [
      "Epoch 5: Val Acc: 92.65%\n"
     ]
    },
    {
     "name": "stderr",
     "output_type": "stream",
     "text": [
      "[ResNet50] Epoch 6/30: 100%|██████████| 31/31 [00:16<00:00,  1.94it/s, acc=93.7, loss=0.507]\n"
     ]
    },
    {
     "name": "stdout",
     "output_type": "stream",
     "text": [
      "Epoch 6: Val Acc: 94.29%\n"
     ]
    },
    {
     "name": "stderr",
     "output_type": "stream",
     "text": [
      "[ResNet50] Epoch 7/30: 100%|██████████| 31/31 [00:16<00:00,  1.92it/s, acc=95.4, loss=0.408]\n"
     ]
    },
    {
     "name": "stdout",
     "output_type": "stream",
     "text": [
      "Epoch 7: Val Acc: 94.29%\n"
     ]
    },
    {
     "name": "stderr",
     "output_type": "stream",
     "text": [
      "[ResNet50] Epoch 8/30: 100%|██████████| 31/31 [00:15<00:00,  1.94it/s, acc=96.2, loss=0.613]\n"
     ]
    },
    {
     "name": "stdout",
     "output_type": "stream",
     "text": [
      "Epoch 8: Val Acc: 94.69%\n"
     ]
    },
    {
     "name": "stderr",
     "output_type": "stream",
     "text": [
      "[ResNet50] Epoch 9/30: 100%|██████████| 31/31 [00:15<00:00,  1.95it/s, acc=96.8, loss=0.534]\n"
     ]
    },
    {
     "name": "stdout",
     "output_type": "stream",
     "text": [
      "Epoch 9: Val Acc: 95.92%\n"
     ]
    },
    {
     "name": "stderr",
     "output_type": "stream",
     "text": [
      "[ResNet50] Epoch 10/30: 100%|██████████| 31/31 [00:15<00:00,  1.94it/s, acc=97, loss=0.542]  \n"
     ]
    },
    {
     "name": "stdout",
     "output_type": "stream",
     "text": [
      "Epoch 10: Val Acc: 94.69%\n"
     ]
    },
    {
     "name": "stderr",
     "output_type": "stream",
     "text": [
      "[ResNet50] Epoch 11/30: 100%|██████████| 31/31 [00:15<00:00,  1.94it/s, acc=97.6, loss=0.385]\n"
     ]
    },
    {
     "name": "stdout",
     "output_type": "stream",
     "text": [
      "Epoch 11: Val Acc: 95.92%\n"
     ]
    },
    {
     "name": "stderr",
     "output_type": "stream",
     "text": [
      "[ResNet50] Epoch 12/30: 100%|██████████| 31/31 [00:15<00:00,  1.94it/s, acc=97.2, loss=0.365]\n"
     ]
    },
    {
     "name": "stdout",
     "output_type": "stream",
     "text": [
      "Epoch 12: Val Acc: 95.51%\n"
     ]
    },
    {
     "name": "stderr",
     "output_type": "stream",
     "text": [
      "[ResNet50] Epoch 13/30: 100%|██████████| 31/31 [00:16<00:00,  1.94it/s, acc=97.6, loss=0.552]\n"
     ]
    },
    {
     "name": "stdout",
     "output_type": "stream",
     "text": [
      "Epoch 13: Val Acc: 97.14%\n"
     ]
    },
    {
     "name": "stderr",
     "output_type": "stream",
     "text": [
      "[ResNet50] Epoch 14/30: 100%|██████████| 31/31 [00:16<00:00,  1.90it/s, acc=97.6, loss=0.502]\n"
     ]
    },
    {
     "name": "stdout",
     "output_type": "stream",
     "text": [
      "Epoch 14: Val Acc: 95.51%\n"
     ]
    },
    {
     "name": "stderr",
     "output_type": "stream",
     "text": [
      "[ResNet50] Epoch 15/30: 100%|██████████| 31/31 [00:16<00:00,  1.93it/s, acc=98.2, loss=0.382]\n"
     ]
    },
    {
     "name": "stdout",
     "output_type": "stream",
     "text": [
      "Epoch 15: Val Acc: 95.92%\n"
     ]
    },
    {
     "name": "stderr",
     "output_type": "stream",
     "text": [
      "[ResNet50] Epoch 16/30: 100%|██████████| 31/31 [00:15<00:00,  1.94it/s, acc=98.7, loss=0.545]\n"
     ]
    },
    {
     "name": "stdout",
     "output_type": "stream",
     "text": [
      "Epoch 16: Val Acc: 96.73%\n"
     ]
    },
    {
     "name": "stderr",
     "output_type": "stream",
     "text": [
      "[ResNet50] Epoch 17/30: 100%|██████████| 31/31 [00:15<00:00,  1.94it/s, acc=98.4, loss=0.458]\n"
     ]
    },
    {
     "name": "stdout",
     "output_type": "stream",
     "text": [
      "Epoch 17: Val Acc: 97.14%\n"
     ]
    },
    {
     "name": "stderr",
     "output_type": "stream",
     "text": [
      "[ResNet50] Epoch 18/30: 100%|██████████| 31/31 [00:15<00:00,  1.94it/s, acc=99.1, loss=0.369]\n"
     ]
    },
    {
     "name": "stdout",
     "output_type": "stream",
     "text": [
      "Epoch 18: Val Acc: 96.73%\n",
      "Early stopping for ResNet50\n",
      "✅ Best Validation Accuracy for ResNet50: 97.14%\n"
     ]
    },
    {
     "name": "stderr",
     "output_type": "stream",
     "text": [
      "C:\\Users\\Chirag Bansal\\AppData\\Local\\Temp\\ipykernel_22808\\868957484.py:213: FutureWarning: You are using `torch.load` with `weights_only=False` (the current default value), which uses the default pickle module implicitly. It is possible to construct malicious pickle data which will execute arbitrary code during unpickling (See https://github.com/pytorch/pytorch/blob/main/SECURITY.md#untrusted-models for more details). In a future release, the default value for `weights_only` will be flipped to `True`. This limits the functions that could be executed during unpickling. Arbitrary objects will no longer be allowed to be loaded via this mode unless they are explicitly allowlisted by the user via `torch.serialization.add_safe_globals`. We recommend you start setting `weights_only=True` for any use case where you don't have full control of the loaded file. Please open an issue on GitHub for any issues related to this experimental feature.\n",
      "  model1.load_state_dict(torch.load(\"CustomCNN_best.pth\"))\n",
      "C:\\Users\\Chirag Bansal\\AppData\\Local\\Temp\\ipykernel_22808\\868957484.py:214: FutureWarning: You are using `torch.load` with `weights_only=False` (the current default value), which uses the default pickle module implicitly. It is possible to construct malicious pickle data which will execute arbitrary code during unpickling (See https://github.com/pytorch/pytorch/blob/main/SECURITY.md#untrusted-models for more details). In a future release, the default value for `weights_only` will be flipped to `True`. This limits the functions that could be executed during unpickling. Arbitrary objects will no longer be allowed to be loaded via this mode unless they are explicitly allowlisted by the user via `torch.serialization.add_safe_globals`. We recommend you start setting `weights_only=True` for any use case where you don't have full control of the loaded file. Please open an issue on GitHub for any issues related to this experimental feature.\n",
      "  model2.load_state_dict(torch.load(\"MobileNetV2_best.pth\"))\n",
      "C:\\Users\\Chirag Bansal\\AppData\\Local\\Temp\\ipykernel_22808\\868957484.py:215: FutureWarning: You are using `torch.load` with `weights_only=False` (the current default value), which uses the default pickle module implicitly. It is possible to construct malicious pickle data which will execute arbitrary code during unpickling (See https://github.com/pytorch/pytorch/blob/main/SECURITY.md#untrusted-models for more details). In a future release, the default value for `weights_only` will be flipped to `True`. This limits the functions that could be executed during unpickling. Arbitrary objects will no longer be allowed to be loaded via this mode unless they are explicitly allowlisted by the user via `torch.serialization.add_safe_globals`. We recommend you start setting `weights_only=True` for any use case where you don't have full control of the loaded file. Please open an issue on GitHub for any issues related to this experimental feature.\n",
      "  model3.load_state_dict(torch.load(\"ResNet50_best.pth\"))\n",
      "Predicting Test Set: 100%|██████████| 11/11 [00:04<00:00,  2.38it/s]"
     ]
    },
    {
     "name": "stdout",
     "output_type": "stream",
     "text": [
      "📁 Saved predictions to D:/Projects/iit_ropar_project/sample_submission.csv\n"
     ]
    },
    {
     "name": "stderr",
     "output_type": "stream",
     "text": [
      "\n"
     ]
    }
   ],
   "source": [
    "import os\n",
    "import pandas as pd\n",
    "import torch\n",
    "import torch.nn as nn\n",
    "from torch.utils.data import Dataset, DataLoader\n",
    "from torchvision import transforms, models\n",
    "from PIL import Image\n",
    "import numpy as np\n",
    "from tqdm import tqdm\n",
    "from sklearn.model_selection import train_test_split\n",
    "import matplotlib.pyplot as plt\n",
    "from torch.cuda.amp import GradScaler, autocast\n",
    "\n",
    "# ⚙️ Setup\n",
    "device = torch.device(\"cuda\" if torch.cuda.is_available() else \"cpu\")\n",
    "print(\"Device:\", device)\n",
    "\n",
    "# 📁 Paths\n",
    "TRAIN_DIR = 'D:/Projects/iit_ropar_project/train'\n",
    "TEST_DIR = 'D:/Projects/iit_ropar_project/test'\n",
    "TRAIN_CSV = 'D:/Projects/iit_ropar_project/train_labels.csv'\n",
    "TEST_CSV = 'D:/Projects/iit_ropar_project/test_ids.csv'\n",
    "SUBMISSION_CSV = 'D:/Projects/iit_ropar_project/sample_submission.csv'\n",
    "\n",
    "IMG_SIZE = 224\n",
    "BATCH_SIZE = 32\n",
    "NUM_CLASSES = 4\n",
    "EPOCHS = 30\n",
    "LABELS = ['Alluvial soil', 'Black Soil', 'Clay soil', 'Red soil']\n",
    "label2idx = {label: i for i, label in enumerate(LABELS)}\n",
    "idx2label = {i: label for label, i in label2idx.items()}\n",
    "\n",
    "# 🧱 Dataset Class\n",
    "class SoilDataset(Dataset):\n",
    "    def __init__(self, df, img_dir, labels=True, transform=None):\n",
    "        self.df = df\n",
    "        self.img_dir = img_dir\n",
    "        self.transform = transform\n",
    "        self.has_labels = labels\n",
    "\n",
    "    def __len__(self):\n",
    "        return len(self.df)\n",
    "\n",
    "    def __getitem__(self, idx):\n",
    "        img_id = self.df.iloc[idx]['image_id']\n",
    "        img_path = os.path.join(self.img_dir, img_id)\n",
    "        image = Image.open(img_path).convert('RGB')\n",
    "        if self.transform:\n",
    "            image = self.transform(image)\n",
    "        if self.has_labels:\n",
    "            label = label2idx[self.df.iloc[idx]['label']]\n",
    "            return image, label\n",
    "        else:\n",
    "            return image, img_id\n",
    "\n",
    "# 🔧 Transforms\n",
    "train_transform = transforms.Compose([\n",
    "    transforms.RandomResizedCrop(IMG_SIZE, scale=(0.8, 1.0)),\n",
    "    transforms.RandomHorizontalFlip(),\n",
    "    transforms.RandomVerticalFlip(),\n",
    "    transforms.RandomRotation(30),\n",
    "    transforms.ColorJitter(0.2, 0.2, 0.2, 0.1),\n",
    "    transforms.GaussianBlur(3),\n",
    "    transforms.ToTensor(),\n",
    "    transforms.Normalize([0.5]*3, [0.5]*3),\n",
    "    transforms.RandomErasing()\n",
    "])\n",
    "\n",
    "val_transform = transforms.Compose([\n",
    "    transforms.Resize((IMG_SIZE, IMG_SIZE)),\n",
    "    transforms.ToTensor(),\n",
    "    transforms.Normalize([0.5]*3, [0.5]*3)\n",
    "])\n",
    "\n",
    "# 📊 Load Data\n",
    "df = pd.read_csv(TRAIN_CSV)\n",
    "train_df, val_df = train_test_split(df, test_size=0.2, stratify=df['label'], random_state=42)\n",
    "train_dataset = SoilDataset(train_df, TRAIN_DIR, labels=True, transform=train_transform)\n",
    "val_dataset = SoilDataset(val_df, TRAIN_DIR, labels=True, transform=val_transform)\n",
    "train_loader = DataLoader(train_dataset, batch_size=BATCH_SIZE, shuffle=True)\n",
    "val_loader = DataLoader(val_dataset, batch_size=BATCH_SIZE)\n",
    "\n",
    "# 🧠 Models\n",
    "class CustomCNN(nn.Module):\n",
    "    def __init__(self):\n",
    "        super().__init__()\n",
    "        self.conv = nn.Sequential(\n",
    "            nn.Conv2d(3, 32, 3, padding=1), nn.ReLU(), nn.MaxPool2d(2),\n",
    "            nn.Conv2d(32, 64, 3, padding=1), nn.ReLU(), nn.MaxPool2d(2),\n",
    "            nn.Conv2d(64, 128, 3, padding=1), nn.ReLU(), nn.AdaptiveAvgPool2d((1, 1))\n",
    "        )\n",
    "        self.fc = nn.Sequential(\n",
    "            nn.Flatten(),\n",
    "            nn.Linear(128, 64), nn.ReLU(),\n",
    "            nn.Linear(64, NUM_CLASSES)\n",
    "        )\n",
    "\n",
    "    def forward(self, x):\n",
    "        x = self.conv(x)\n",
    "        return self.fc(x)\n",
    "\n",
    "def get_model(base='mobilenet'):\n",
    "    if base == 'mobilenet':\n",
    "        model = models.mobilenet_v2(pretrained=True)\n",
    "        model.classifier[1] = nn.Linear(model.last_channel, NUM_CLASSES)\n",
    "    elif base == 'resnet':\n",
    "        model = models.resnet50(pretrained=True)\n",
    "        model.fc = nn.Linear(model.fc.in_features, NUM_CLASSES)\n",
    "    return model\n",
    "\n",
    "# 🏋️ Training Function\n",
    "def train_model(model, name):\n",
    "    model.to(device)\n",
    "    optimizer = torch.optim.Adam(model.parameters(), lr=1e-4)\n",
    "    criterion = nn.CrossEntropyLoss(label_smoothing=0.1)\n",
    "    scheduler = torch.optim.lr_scheduler.CosineAnnealingLR(optimizer, T_max=EPOCHS)\n",
    "    scaler = GradScaler()\n",
    "\n",
    "    best_acc, stop_counter, patience = 0, 0, 5\n",
    "\n",
    "    for epoch in range(EPOCHS):\n",
    "        model.train()\n",
    "        correct, total = 0, 0\n",
    "        loop = tqdm(train_loader, desc=f\"[{name}] Epoch {epoch+1}/{EPOCHS}\")\n",
    "        for images, labels in loop:\n",
    "            images, labels = images.to(device), labels.to(device)\n",
    "\n",
    "            optimizer.zero_grad()\n",
    "            with autocast():\n",
    "                outputs = model(images)\n",
    "                loss = criterion(outputs, labels)\n",
    "\n",
    "            scaler.scale(loss).backward()\n",
    "            scaler.step(optimizer)\n",
    "            scaler.update()\n",
    "\n",
    "            preds = outputs.argmax(1)\n",
    "            correct += (preds == labels).sum().item()\n",
    "            total += labels.size(0)\n",
    "            loop.set_postfix(loss=loss.item(), acc=100 * correct / total)\n",
    "\n",
    "        val_acc = evaluate(model)\n",
    "        print(f\"Epoch {epoch+1}: Val Acc: {val_acc:.2f}%\")\n",
    "        scheduler.step()\n",
    "\n",
    "        if val_acc > best_acc:\n",
    "            best_acc = val_acc\n",
    "            torch.save(model.state_dict(), f\"{name}_best.pth\")\n",
    "            stop_counter = 0\n",
    "        else:\n",
    "            stop_counter += 1\n",
    "            if stop_counter >= patience:\n",
    "                print(f\"Early stopping for {name}\")\n",
    "                break\n",
    "\n",
    "    print(f\"✅ Best Validation Accuracy for {name}: {best_acc:.2f}%\")\n",
    "    return model\n",
    "\n",
    "# 📈 Evaluation\n",
    "def evaluate(model):\n",
    "    model.eval()\n",
    "    correct, total = 0, 0\n",
    "    with torch.no_grad():\n",
    "        for images, labels in val_loader:\n",
    "            images, labels = images.to(device), labels.to(device)\n",
    "            outputs = model(images)\n",
    "            preds = outputs.argmax(1)\n",
    "            correct += (preds == labels).sum().item()\n",
    "            total += labels.size(0)\n",
    "    return 100 * correct / total\n",
    "\n",
    "# 🔮 Predict Test Set\n",
    "def predict_test(models, weights=None):\n",
    "    for model in models:\n",
    "        model.eval()\n",
    "\n",
    "    test_df = pd.read_csv(TEST_CSV)\n",
    "    test_dataset = SoilDataset(test_df, TEST_DIR, labels=False, transform=val_transform)\n",
    "    test_loader = DataLoader(test_dataset, batch_size=BATCH_SIZE)\n",
    "\n",
    "    all_preds, all_ids = [], []\n",
    "\n",
    "    with torch.no_grad():\n",
    "        for images, img_ids in tqdm(test_loader, desc=\"Predicting Test Set\"):\n",
    "            images = images.to(device)\n",
    "\n",
    "            outputs = []\n",
    "            for i, model in enumerate(models):\n",
    "                model.to(device)\n",
    "                out = model(images)\n",
    "                softmax_out = torch.softmax(out, dim=1)\n",
    "                if weights:\n",
    "                    softmax_out *= weights[i]\n",
    "                outputs.append(softmax_out)\n",
    "                model.to('cpu')\n",
    "                torch.cuda.empty_cache()\n",
    "\n",
    "            avg_output = sum(outputs) / (sum(weights) if weights else len(models))\n",
    "            preds = torch.argmax(avg_output, dim=1).cpu().numpy()\n",
    "            all_preds.extend([idx2label[i] for i in preds])\n",
    "            all_ids.extend(img_ids)\n",
    "\n",
    "    submission = pd.DataFrame({'image_id': all_ids, 'label': all_preds})\n",
    "    submission.to_csv(SUBMISSION_CSV, index=False)\n",
    "    print(f\"📁 Saved predictions to {SUBMISSION_CSV}\")\n",
    "\n",
    "# 🚀 Main\n",
    "if __name__ == '__main__':\n",
    "    model1 = train_model(CustomCNN(), 'CustomCNN')\n",
    "    model2 = train_model(get_model('mobilenet'), 'MobileNetV2')\n",
    "    model3 = train_model(get_model('resnet'), 'ResNet50')\n",
    "\n",
    "    model1.load_state_dict(torch.load(\"CustomCNN_best.pth\"))\n",
    "    model2.load_state_dict(torch.load(\"MobileNetV2_best.pth\"))\n",
    "    model3.load_state_dict(torch.load(\"ResNet50_best.pth\"))\n",
    "\n",
    "    predict_test([model1.to(device), model2.to(device), model3.to(device)], weights=[0.2, 0.4, 0.4])\n"
   ]
  }
 ],
 "metadata": {
  "kernelspec": {
   "display_name": "Python 3",
   "language": "python",
   "name": "python3"
  },
  "language_info": {
   "codemirror_mode": {
    "name": "ipython",
    "version": 3
   },
   "file_extension": ".py",
   "mimetype": "text/x-python",
   "name": "python",
   "nbconvert_exporter": "python",
   "pygments_lexer": "ipython3",
   "version": "3.11.4"
  }
 },
 "nbformat": 4,
 "nbformat_minor": 5
}
